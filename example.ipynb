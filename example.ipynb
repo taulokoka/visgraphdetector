{
 "cells": [
  {
   "cell_type": "code",
   "execution_count": 3,
   "metadata": {},
   "outputs": [],
   "source": [
    "%matplotlib qt5\n",
    "#import packages\n",
    "import matplotlib.pyplot as plt\n",
    "import numpy as np\n",
    "from scipy.misc import electrocardiogram\n",
    "\n",
    "from visgraphdetector import VisGraphDetector"
   ]
  },
  {
   "cell_type": "code",
   "execution_count": 4,
   "metadata": {},
   "outputs": [
    {
     "data": {
      "text/plain": [
       "[<matplotlib.lines.Line2D at 0x168f38852e0>]"
      ]
     },
     "execution_count": 4,
     "metadata": {},
     "output_type": "execute_result"
    }
   ],
   "source": [
    "ecg = electrocardiogram()\n",
    "fs = 360\n",
    "beta = 0.55\n",
    "gamma = 0.5\n",
    "lowcut = 4\n",
    "M = 2*fs\n",
    "time = np.arange(0,len(ecg)/360,1/360)\n",
    "\n",
    "vgd = VisGraphDetector(360)\n",
    "R_peaks, weights, weighted_signal = vgd.visgraphdetect(ecg, beta=beta, gamma=gamma, lowcut=lowcut, M = M)\n",
    "\n",
    "plt.plot(time,ecg)\n",
    "plt.plot(time[R_peaks],ecg[R_peaks],'X')\n"
   ]
  },
  {
   "cell_type": "markdown",
   "metadata": {},
   "source": []
  }
 ],
 "metadata": {
  "interpreter": {
   "hash": "9142e0a3d2bb0f7217026dfa10aa5ea40b1b80c773d2ddd79d12d84943dd1aee"
  },
  "kernelspec": {
   "display_name": "Python 3.8.5 64-bit ('MLE': conda)",
   "language": "python",
   "name": "python3"
  },
  "language_info": {
   "codemirror_mode": {
    "name": "ipython",
    "version": 3
   },
   "file_extension": ".py",
   "mimetype": "text/x-python",
   "name": "python",
   "nbconvert_exporter": "python",
   "pygments_lexer": "ipython3",
   "version": "3.8.5"
  },
  "orig_nbformat": 4
 },
 "nbformat": 4,
 "nbformat_minor": 2
}
